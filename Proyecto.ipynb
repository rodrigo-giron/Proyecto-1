{
 "cells": [
  {
   "cell_type": "markdown",
   "metadata": {},
   "source": [
    "# Proyecto 1\n"
   ]
  },
  {
   "cell_type": "markdown",
   "metadata": {},
   "source": [
    "Integrantes:\n",
    "- Jair Salvador Arreola Espinosa\n",
    "- Mauricio Armeria \n",
    "- Rodrigo Girón Lugo"
   ]
  },
  {
   "cell_type": "markdown",
   "metadata": {},
   "source": [
    "# \"Tendencia y estimación de los puestos de trabajo generados por el Sector de la Construcción\"\n"
   ]
  },
  {
   "cell_type": "markdown",
   "metadata": {},
   "source": [
    "## Introducción\n",
    ">Tradicionalmente el sector construcción ha sido un gran generador de empleos para la economía mexicana. En el año 2017 el sector\n",
    "construcción generó un total de 6 millones 111 mil 114 puestos de trabajo, de los cuales 4 millones 062 mil 514 correspondieron a la edificación\n",
    "(Residencial y No Residencial).\n",
    "\n"
   ]
  },
  {
   "cell_type": "markdown",
   "metadata": {},
   "source": [
    "## Objetivos\n",
    ">En éste proyecto veremos el porcentaje  de Generación de empleos en el sector de la Construcción, con la final de hacer una aproximación mediante un ajuste de curvas y poder medir estimación de generación de empleos en el año 2022 y compare con el dato real."
   ]
  },
  {
   "cell_type": "markdown",
   "metadata": {},
   "source": [
    "### Objetivos generales"
   ]
  },
  {
   "cell_type": "markdown",
   "metadata": {},
   "source": [
    "### Objetivos específicos\n",
    " - Observar el crecimiento constante de la Genereación de empleos en la construcción.\n",
    " - Evaluar graficando los datos obtenidos de 2010 a 2022. \n",
    " - Hacer un ajuste de curvas con los datos ya graficados."
   ]
  },
  {
   "cell_type": "markdown",
   "metadata": {},
   "source": [
    "### Modelo del problema"
   ]
  },
  {
   "cell_type": "markdown",
   "metadata": {},
   "source": [
    "### Solución del problema"
   ]
  },
  {
   "cell_type": "code",
   "execution_count": 33,
   "metadata": {},
   "outputs": [],
   "source": [
    "import numpy as np\n",
    "import matplotlib.pyplot as plt\n",
    "%matplotlib inline\n",
    "import sympy as sym\n",
    "import scipy.optimize as opt\n",
    "import pandas as pd"
   ]
  },
  {
   "cell_type": "code",
   "execution_count": 45,
   "metadata": {},
   "outputs": [
    {
     "data": {
      "text/html": [
       "<div>\n",
       "<style scoped>\n",
       "    .dataframe tbody tr th:only-of-type {\n",
       "        vertical-align: middle;\n",
       "    }\n",
       "\n",
       "    .dataframe tbody tr th {\n",
       "        vertical-align: top;\n",
       "    }\n",
       "\n",
       "    .dataframe thead th {\n",
       "        text-align: right;\n",
       "    }\n",
       "</style>\n",
       "<table border=\"1\" class=\"dataframe\">\n",
       "  <thead>\n",
       "    <tr style=\"text-align: right;\">\n",
       "      <th></th>\n",
       "      <th>Trabajos Directos</th>\n",
       "      <th>Trabajos Indirectos</th>\n",
       "      <th>año</th>\n",
       "    </tr>\n",
       "  </thead>\n",
       "  <tbody>\n",
       "    <tr>\n",
       "      <th>2010</th>\n",
       "      <td>5489432</td>\n",
       "      <td>2744716</td>\n",
       "      <td>2010</td>\n",
       "    </tr>\n",
       "    <tr>\n",
       "      <th>2011</th>\n",
       "      <td>5709009</td>\n",
       "      <td>2854505</td>\n",
       "      <td>2011</td>\n",
       "    </tr>\n",
       "    <tr>\n",
       "      <th>2012</th>\n",
       "      <td>5846025</td>\n",
       "      <td>2923013</td>\n",
       "      <td>2012</td>\n",
       "    </tr>\n",
       "    <tr>\n",
       "      <th>2013</th>\n",
       "      <td>5753962</td>\n",
       "      <td>2876981</td>\n",
       "      <td>2013</td>\n",
       "    </tr>\n",
       "    <tr>\n",
       "      <th>2014</th>\n",
       "      <td>5909319</td>\n",
       "      <td>2954659</td>\n",
       "      <td>2014</td>\n",
       "    </tr>\n",
       "    <tr>\n",
       "      <th>2015</th>\n",
       "      <td>6051142</td>\n",
       "      <td>3025571</td>\n",
       "      <td>2015</td>\n",
       "    </tr>\n",
       "    <tr>\n",
       "      <th>2016</th>\n",
       "      <td>6166114</td>\n",
       "      <td>3083057</td>\n",
       "      <td>2016</td>\n",
       "    </tr>\n",
       "    <tr>\n",
       "      <th>2017</th>\n",
       "      <td>6111114</td>\n",
       "      <td>3055557</td>\n",
       "      <td>2017</td>\n",
       "    </tr>\n",
       "    <tr>\n",
       "      <th>2018</th>\n",
       "      <td>6147781</td>\n",
       "      <td>3073890</td>\n",
       "      <td>2018</td>\n",
       "    </tr>\n",
       "    <tr>\n",
       "      <th>2019</th>\n",
       "      <td>6050965</td>\n",
       "      <td>3025483</td>\n",
       "      <td>2019</td>\n",
       "    </tr>\n",
       "    <tr>\n",
       "      <th>2020</th>\n",
       "      <td>6171984</td>\n",
       "      <td>3085992</td>\n",
       "      <td>2020</td>\n",
       "    </tr>\n",
       "    <tr>\n",
       "      <th>2021</th>\n",
       "      <td>6326284</td>\n",
       "      <td>3163142</td>\n",
       "      <td>2021</td>\n",
       "    </tr>\n",
       "    <tr>\n",
       "      <th>2022</th>\n",
       "      <td>6516073</td>\n",
       "      <td>3258036</td>\n",
       "      <td>2022</td>\n",
       "    </tr>\n",
       "  </tbody>\n",
       "</table>\n",
       "</div>"
      ],
      "text/plain": [
       "      Trabajos Directos  Trabajos Indirectos   año\n",
       "2010            5489432              2744716  2010\n",
       "2011            5709009              2854505  2011\n",
       "2012            5846025              2923013  2012\n",
       "2013            5753962              2876981  2013\n",
       "2014            5909319              2954659  2014\n",
       "2015            6051142              3025571  2015\n",
       "2016            6166114              3083057  2016\n",
       "2017            6111114              3055557  2017\n",
       "2018            6147781              3073890  2018\n",
       "2019            6050965              3025483  2019\n",
       "2020            6171984              3085992  2020\n",
       "2021            6326284              3163142  2021\n",
       "2022            6516073              3258036  2022"
      ]
     },
     "execution_count": 45,
     "metadata": {},
     "output_type": "execute_result"
    }
   ],
   "source": [
    "df = pd.DataFrame(columns=['Trabajos Directos', 'Trabajos Indirectos','año'], index = ['2010','2011','2012','2013','2014','2015','2016','2017','2018','2019','2020','2021','2022'])\n",
    "df.loc['2010', :] = [5489432, 2744716, 2010]\n",
    "df.loc['2011', :] = [5709009, 2854505, 2011]\n",
    "df.loc['2012', :] = [5846025, 2923013, 2012]\n",
    "df.loc['2013', :] = [5753962, 2876981, 2013]\n",
    "df.loc['2014', :] = [5909319, 2954659, 2014]\n",
    "df.loc['2015', :] = [6051142, 3025571, 2015]\n",
    "df.loc['2016', :] = [6166114, 3083057, 2016]\n",
    "df.loc['2017', :] = [6111114, 3055557, 2017]\n",
    "df.loc['2018', :] = [6147781, 3073890, 2018]\n",
    "df.loc['2019', :] = [6050965, 3025483, 2019]\n",
    "df.loc['2020', :] = [6171984, 3085992, 2020]\n",
    "df.loc['2021', :] = [6326284, 3163142, 2021]\n",
    "df.loc['2022', :] = [6516073, 3258036, 2022]\n",
    "df"
   ]
  },
  {
   "cell_type": "code",
   "execution_count": 58,
   "metadata": {},
   "outputs": [],
   "source": [
    "x = df.iloc[:,1].values # Trabajos indirectos\n",
    "y = df.iloc[:,0].values # Años"
   ]
  },
  {
   "cell_type": "code",
   "execution_count": 59,
   "metadata": {},
   "outputs": [],
   "source": [
    "def fun_obj(beta,x,y,n):\n",
    "    yhat = beta.dot([x**i for i in range(n+1)])\n",
    "    e = y-yhat\n",
    "    return np.sum(e**2)"
   ]
  },
  {
   "cell_type": "code",
   "execution_count": 60,
   "metadata": {},
   "outputs": [],
   "source": [
    "b01 = np.zeros(2) #beta inicales\n",
    "b02 = np.zeros(3)\n",
    "b03 = np.zeros(4)\n",
    "\n",
    "ajuste1 = opt.minimize(fun_obj,b01,args=(x,y,1))  #soluciones\n",
    "ajuste2 = opt.minimize(fun_obj,b02,args=(x,y,2))\n",
    "ajuste3 = opt.minimize(fun_obj,b03,args=(x,y,3))"
   ]
  },
  {
   "cell_type": "code",
   "execution_count": 61,
   "metadata": {},
   "outputs": [
    {
     "data": {
      "text/plain": [
       "      fun: 1.3644466165552744\n",
       " hess_inv: array([[ 1.46190247e+01, -2.46140152e-06],\n",
       "       [-2.46140152e-06,  4.15136660e-13]])\n",
       "      jac: array([-1.43432981e+00, -1.05090953e+06])\n",
       "  message: 'Desired error not necessarily achieved due to precision loss.'\n",
       "     nfev: 232\n",
       "      nit: 2\n",
       "     njev: 55\n",
       "   status: 2\n",
       "  success: False\n",
       "        x: array([1.33365523, 0.49999977])"
      ]
     },
     "execution_count": 61,
     "metadata": {},
     "output_type": "execute_result"
    }
   ],
   "source": [
    "ajuste1"
   ]
  },
  {
   "cell_type": "code",
   "execution_count": 62,
   "metadata": {},
   "outputs": [
    {
     "data": {
      "text/plain": [
       "      fun: 1177533015012.8672\n",
       " hess_inv: array([[ 1.00000000e+00, -4.49578882e-21, -2.74996810e-14],\n",
       "       [-4.49578882e-21,  1.00000000e+00, -1.65197514e-07],\n",
       "       [-2.74996810e-14, -1.65197514e-07,  2.72902185e-14]])\n",
       "      jac: array([-7.30726400e+06, -4.33646816e+13,  6.80844004e+13])\n",
       "  message: 'Desired error not necessarily achieved due to precision loss.'\n",
       "     nfev: 195\n",
       "      nit: 1\n",
       "     njev: 37\n",
       "   status: 2\n",
       "  success: False\n",
       "        x: array([2.27823718e-21, 1.36705362e-14, 7.51481778e-08])"
      ]
     },
     "execution_count": 62,
     "metadata": {},
     "output_type": "execute_result"
    }
   ],
   "source": [
    "ajuste2"
   ]
  },
  {
   "cell_type": "code",
   "execution_count": 63,
   "metadata": {},
   "outputs": [
    {
     "data": {
      "text/plain": [
       "      fun: 117974407744944.0\n",
       " hess_inv: array([[1, 0, 0, 0],\n",
       "       [0, 1, 0, 0],\n",
       "       [0, 0, 1, 0],\n",
       "       [0, 0, 0, 1]])\n",
       "      jac: array([-7.86432000e+07, -4.71897625e+14, -2.59406406e+21,  3.57822654e+30])\n",
       "  message: 'Desired error not necessarily achieved due to precision loss.'\n",
       "     nfev: 534\n",
       "      nit: 0\n",
       "     njev: 87\n",
       "   status: 2\n",
       "  success: False\n",
       "        x: array([0., 0., 0., 0.])"
      ]
     },
     "execution_count": 63,
     "metadata": {},
     "output_type": "execute_result"
    }
   ],
   "source": [
    "ajuste3"
   ]
  },
  {
   "cell_type": "code",
   "execution_count": 64,
   "metadata": {},
   "outputs": [],
   "source": [
    "beta1 = ajuste1.x\n",
    "beta2 = ajuste2.x\n",
    "beta3 = ajuste3.x"
   ]
  },
  {
   "cell_type": "code",
   "execution_count": 65,
   "metadata": {},
   "outputs": [],
   "source": [
    "yhat1 = beta1[0] + beta1[1]*x\n",
    "yhat2 = beta2[0] + beta2[1]*x + beta2[2]*x**2\n",
    "yhat3 = beta3[0] + beta3[1]*x + beta3[2]*x**2 + beta3[3]*x**3"
   ]
  },
  {
   "cell_type": "code",
   "execution_count": 68,
   "metadata": {},
   "outputs": [
    {
     "data": {
      "image/png": "[encoded data removed]",
      "text/plain": [
       "<Figure size 576x432 with 1 Axes>"
      ]
     },
     "metadata": {
      "needs_background": "light"
     },
     "output_type": "display_data"
    }
   ],
   "source": [
    "plt.figure(figsize=(8,6))\n",
    "plt.plot(x,y,'r*',ms = 6,label='Puntos')\n",
    "plt.plot(x,yhat1,'b',ms = 6,label='Ajuste 1')\n",
    "plt.plot(x,yhat2,'k',ms = 6,label='Ajuste 2')\n",
    "plt.plot(x,yhat3,'m',ms = 6,label='Ajuste 3')\n",
    "plt.grid()\n",
    "plt.legend(loc='best')\n",
    "plt.xlabel('Generación de Empleos')\n",
    "plt.ylabel('Años')\n",
    "plt.show()"
   ]
  },
  {
   "cell_type": "code",
   "execution_count": 57,
   "metadata": {},
   "outputs": [
    {
     "data": {
      "text/plain": [
       "Text(0, 0.5, 'Error')"
      ]
     },
     "execution_count": 57,
     "metadata": {},
     "output_type": "execute_result"
    },
    {
     "data": {
      "image/png": "[encoded data removed]",
      "text/plain": [
       "<Figure size 576x432 with 1 Axes>"
      ]
     },
     "metadata": {
      "needs_background": "light"
     },
     "output_type": "display_data"
    }
   ],
   "source": [
    "error = [ajuste1.fun,ajuste2.fun,ajuste3.fun]\n",
    "plt.figure(figsize=(8,6))\n",
    "plt.plot(range(1,4),error,'ro',ms=5)\n",
    "plt.xlabel('Orden del polinomio')\n",
    "plt.ylabel('Error')"
   ]
  },
  {
   "cell_type": "markdown",
   "metadata": {},
   "source": [
    "######  Con los polinomios ajustados en el punto anterior, estime el consumo en el año 2022 y compare con el dato real  ??\n",
    "\n",
    "¿Cuál polinomio estima mejor este dato? ¿Es el polinomio que mejor se ajusta? Concluya."
   ]
  },
  {
   "cell_type": "code",
   "execution_count": 70,
   "metadata": {},
   "outputs": [
    {
     "data": {
      "text/plain": [
       "(12.833649924443467, 3.975338639018067e-05, 0.0, 325)"
      ]
     },
     "execution_count": 70,
     "metadata": {},
     "output_type": "execute_result"
    }
   ],
   "source": [
    "x = 23 #Dato extraído de la tabla en el año 2022\n",
    "yhat1 = beta1[0] + beta1[1]*x\n",
    "yhat2 = beta2[0] + beta2[1]*x + beta2[2]*x**2\n",
    "yhat3 = beta3[0] + beta3[1]*x + beta3[2]*x**2 + beta3[3]*x**3\n",
    "\n",
    "yhat1,yhat2,yhat3,325"
   ]
  },
  {
   "cell_type": "code",
   "execution_count": null,
   "metadata": {},
   "outputs": [],
   "source": []
  },
  {
   "cell_type": "code",
   "execution_count": null,
   "metadata": {},
   "outputs": [],
   "source": []
  },
  {
   "cell_type": "code",
   "execution_count": null,
   "metadata": {},
   "outputs": [],
   "source": []
  },
  {
   "cell_type": "code",
   "execution_count": null,
   "metadata": {},
   "outputs": [],
   "source": []
  },
  {
   "cell_type": "markdown",
   "metadata": {},
   "source": [
    "### Conclusiones\n",
    "- podemos concluir que por medio del proyecto realizado se puede desarrollar el objetivo que se planteó en un principio fue la construcción de un ajuste de curva."
   ]
  },
  {
   "cell_type": "markdown",
   "metadata": {},
   "source": [
    "### Referencias\n",
    "https://www.cmic.org.mx/cmic/ceesco/2019/PDF/Tendencia%20y%20Estimaci%C3%B3n%20de%20los%20puestos%20Trabajo%2005-07-19.pdf"
   ]
  },
  {
   "cell_type": "code",
   "execution_count": null,
   "metadata": {},
   "outputs": [],
   "source": []
  }
 ],
 "metadata": {
  "kernelspec": {
   "display_name": "Python 3",
   "language": "python",
   "name": "python3"
  },
  "language_info": {
   "codemirror_mode": {
    "name": "ipython",
    "version": 3
   },
   "file_extension": ".py",
   "mimetype": "text/x-python",
   "name": "python",
   "nbconvert_exporter": "python",
   "pygments_lexer": "ipython3",
   "version": "3.7.3"
  }
 },
 "nbformat": 4,
 "nbformat_minor": 2
}
